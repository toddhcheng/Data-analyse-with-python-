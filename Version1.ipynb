{
  "nbformat": 4,
  "nbformat_minor": 0,
  "metadata": {
    "colab": {
      "name": "Untitled0.ipynb",
      "provenance": [],
      "toc_visible": true,
      "include_colab_link": true
    },
    "kernelspec": {
      "name": "python3",
      "display_name": "Python 3"
    }
  },
  "cells": [
    {
      "cell_type": "markdown",
      "metadata": {
        "id": "view-in-github",
        "colab_type": "text"
      },
      "source": [
        "<a href=\"https://colab.research.google.com/github/toddhcheng/Data-analyse-with-python-/blob/Readme.edit/Version1.ipynb\" target=\"_parent\"><img src=\"https://colab.research.google.com/assets/colab-badge.svg\" alt=\"Open In Colab\"/></a>"
      ]
    },
    {
      "cell_type": "code",
      "metadata": {
        "id": "OKlWSSxaGf6g",
        "colab_type": "code",
        "outputId": "29b5b29a-f2b6-4cee-bf97-e395f8255a92",
        "colab": {
          "base_uri": "https://localhost:8080/",
          "height": 35
        }
      },
      "source": [
        "print(\"hello world\")"
      ],
      "execution_count": 0,
      "outputs": [
        {
          "output_type": "stream",
          "text": [
            "hello world\n"
          ],
          "name": "stdout"
        }
      ]
    },
    {
      "cell_type": "markdown",
      "metadata": {
        "id": "n3x25W8pJS_E",
        "colab_type": "text"
      },
      "source": [
        "%%html\n",
        "<img src='/content/300px-Ragnaros_in_WoW.jpg' />\n",
        "\n"
      ]
    },
    {
      "cell_type": "code",
      "metadata": {
        "id": "_T4HZeZ9LkKT",
        "colab_type": "code",
        "outputId": "2f64061a-04f5-4881-af0c-174e18001d87",
        "colab": {
          "base_uri": "https://localhost:8080/",
          "height": 35
        }
      },
      "source": [
        "from google.colab import drive\n",
        "drive.mount('/AlohaMyDrive')"
      ],
      "execution_count": 0,
      "outputs": [
        {
          "output_type": "stream",
          "text": [
            "Mounted at /AlohaMyDrive\n"
          ],
          "name": "stdout"
        }
      ]
    },
    {
      "cell_type": "code",
      "metadata": {
        "id": "1NQy_Hc7cWTB",
        "colab_type": "code",
        "outputId": "16bb3282-e63c-41c4-961e-b3429ba84ee9",
        "colab": {
          "base_uri": "https://localhost:8080/",
          "height": 35
        }
      },
      "source": [
        "!pwd"
      ],
      "execution_count": 0,
      "outputs": [
        {
          "output_type": "stream",
          "text": [
            "/content\n"
          ],
          "name": "stdout"
        }
      ]
    },
    {
      "cell_type": "code",
      "metadata": {
        "id": "lJt_zXJhNQhJ",
        "colab_type": "code",
        "outputId": "c9bcb7cd-1555-4aec-82e0-9d927c48cdd1",
        "colab": {
          "base_uri": "https://localhost:8080/",
          "height": 35
        }
      },
      "source": [
        "%cd /AlohaMyDrive"
      ],
      "execution_count": 0,
      "outputs": [
        {
          "output_type": "stream",
          "text": [
            "/AlohaMyDrive\n"
          ],
          "name": "stdout"
        }
      ]
    },
    {
      "cell_type": "code",
      "metadata": {
        "id": "WwgSLejsN3mY",
        "colab_type": "code",
        "outputId": "df01baf6-3135-4ede-dd0c-97ab7eda6419",
        "colab": {
          "base_uri": "https://localhost:8080/",
          "height": 35
        }
      },
      "source": [
        "%cd My\\ Drive"
      ],
      "execution_count": 0,
      "outputs": [
        {
          "output_type": "stream",
          "text": [
            "/AlohaMyDrive/My Drive\n"
          ],
          "name": "stdout"
        }
      ]
    },
    {
      "cell_type": "code",
      "metadata": {
        "id": "uMVi5BR2dRx0",
        "colab_type": "code",
        "outputId": "bd3be055-51b1-4220-ef93-02887604de30",
        "colab": {
          "base_uri": "https://localhost:8080/",
          "height": 35
        }
      },
      "source": [
        "import os\n",
        "import tarfile\n",
        "from six.moves import urllib\n",
        "import pandas as pd\n",
        "\n",
        "\n",
        "DOWNLOAD_ROOT = \"http://raw.githubusercontent.com/ageron/handson-ml/master/\"\n",
        "HOUSING_PATH = os.path.join(\"datasets\",\"housing\")\n",
        "HOUSING_URL = DOWNLOAD_ROOT + \"datasets/housing/housing.tgz\"\n",
        "print(HOUSING_PATH)"
      ],
      "execution_count": 0,
      "outputs": [
        {
          "output_type": "stream",
          "text": [
            "datasets/housing\n"
          ],
          "name": "stdout"
        }
      ]
    },
    {
      "cell_type": "code",
      "metadata": {
        "id": "Q6Toa3vzgaew",
        "colab_type": "code",
        "colab": {}
      },
      "source": [
        "def fetch_housing_data(housing_url=HOUSING_URL, housing_path=HOUSING_PATH):\n",
        "    if not os.path.isdir(housing_path):\n",
        "        os.makedirs(housing_path)\n",
        "    tgz_path = os.path.join(housing_path, \"housing.tgz\")\n",
        "    urllib.request.urlretrieve(housing_url, tgz_path)\n",
        "    housing_tgz = tarfile.open(tgz_path)\n",
        "    housing_tgz.extractall(path=housing_path)\n",
        "    housing_tgz.close()\n",
        "\n",
        "\n",
        "def load_housing_data(housing_path=HOUSING_PATH):\n",
        "    csv_path = os.path.join(housing_path, \"housing.csv\")\n",
        "    return pd.read_csv(csv_path) "
      ],
      "execution_count": 0,
      "outputs": []
    },
    {
      "cell_type": "code",
      "metadata": {
        "id": "Ar7tmj8chrP3",
        "colab_type": "code",
        "colab": {}
      },
      "source": [
        "fetch_housing_data()\n",
        "housing = load_housing_data()"
      ],
      "execution_count": 0,
      "outputs": []
    },
    {
      "cell_type": "code",
      "metadata": {
        "id": "dGYnv-OpiHxV",
        "colab_type": "code",
        "outputId": "947e0f1d-fd9b-4472-91a3-edf9e67dd208",
        "colab": {
          "base_uri": "https://localhost:8080/",
          "height": 375
        }
      },
      "source": [
        "housing.head(10)\n"
      ],
      "execution_count": 0,
      "outputs": [
        {
          "output_type": "execute_result",
          "data": {
            "text/html": [
              "<div>\n",
              "<style scoped>\n",
              "    .dataframe tbody tr th:only-of-type {\n",
              "        vertical-align: middle;\n",
              "    }\n",
              "\n",
              "    .dataframe tbody tr th {\n",
              "        vertical-align: top;\n",
              "    }\n",
              "\n",
              "    .dataframe thead th {\n",
              "        text-align: right;\n",
              "    }\n",
              "</style>\n",
              "<table border=\"1\" class=\"dataframe\">\n",
              "  <thead>\n",
              "    <tr style=\"text-align: right;\">\n",
              "      <th></th>\n",
              "      <th>longitude</th>\n",
              "      <th>latitude</th>\n",
              "      <th>housing_median_age</th>\n",
              "      <th>total_rooms</th>\n",
              "      <th>total_bedrooms</th>\n",
              "      <th>population</th>\n",
              "      <th>households</th>\n",
              "      <th>median_income</th>\n",
              "      <th>median_house_value</th>\n",
              "      <th>ocean_proximity</th>\n",
              "    </tr>\n",
              "  </thead>\n",
              "  <tbody>\n",
              "    <tr>\n",
              "      <th>0</th>\n",
              "      <td>-122.23</td>\n",
              "      <td>37.88</td>\n",
              "      <td>41.0</td>\n",
              "      <td>880.0</td>\n",
              "      <td>129.0</td>\n",
              "      <td>322.0</td>\n",
              "      <td>126.0</td>\n",
              "      <td>8.3252</td>\n",
              "      <td>452600.0</td>\n",
              "      <td>NEAR BAY</td>\n",
              "    </tr>\n",
              "    <tr>\n",
              "      <th>1</th>\n",
              "      <td>-122.22</td>\n",
              "      <td>37.86</td>\n",
              "      <td>21.0</td>\n",
              "      <td>7099.0</td>\n",
              "      <td>1106.0</td>\n",
              "      <td>2401.0</td>\n",
              "      <td>1138.0</td>\n",
              "      <td>8.3014</td>\n",
              "      <td>358500.0</td>\n",
              "      <td>NEAR BAY</td>\n",
              "    </tr>\n",
              "    <tr>\n",
              "      <th>2</th>\n",
              "      <td>-122.24</td>\n",
              "      <td>37.85</td>\n",
              "      <td>52.0</td>\n",
              "      <td>1467.0</td>\n",
              "      <td>190.0</td>\n",
              "      <td>496.0</td>\n",
              "      <td>177.0</td>\n",
              "      <td>7.2574</td>\n",
              "      <td>352100.0</td>\n",
              "      <td>NEAR BAY</td>\n",
              "    </tr>\n",
              "    <tr>\n",
              "      <th>3</th>\n",
              "      <td>-122.25</td>\n",
              "      <td>37.85</td>\n",
              "      <td>52.0</td>\n",
              "      <td>1274.0</td>\n",
              "      <td>235.0</td>\n",
              "      <td>558.0</td>\n",
              "      <td>219.0</td>\n",
              "      <td>5.6431</td>\n",
              "      <td>341300.0</td>\n",
              "      <td>NEAR BAY</td>\n",
              "    </tr>\n",
              "    <tr>\n",
              "      <th>4</th>\n",
              "      <td>-122.25</td>\n",
              "      <td>37.85</td>\n",
              "      <td>52.0</td>\n",
              "      <td>1627.0</td>\n",
              "      <td>280.0</td>\n",
              "      <td>565.0</td>\n",
              "      <td>259.0</td>\n",
              "      <td>3.8462</td>\n",
              "      <td>342200.0</td>\n",
              "      <td>NEAR BAY</td>\n",
              "    </tr>\n",
              "    <tr>\n",
              "      <th>5</th>\n",
              "      <td>-122.25</td>\n",
              "      <td>37.85</td>\n",
              "      <td>52.0</td>\n",
              "      <td>919.0</td>\n",
              "      <td>213.0</td>\n",
              "      <td>413.0</td>\n",
              "      <td>193.0</td>\n",
              "      <td>4.0368</td>\n",
              "      <td>269700.0</td>\n",
              "      <td>NEAR BAY</td>\n",
              "    </tr>\n",
              "    <tr>\n",
              "      <th>6</th>\n",
              "      <td>-122.25</td>\n",
              "      <td>37.84</td>\n",
              "      <td>52.0</td>\n",
              "      <td>2535.0</td>\n",
              "      <td>489.0</td>\n",
              "      <td>1094.0</td>\n",
              "      <td>514.0</td>\n",
              "      <td>3.6591</td>\n",
              "      <td>299200.0</td>\n",
              "      <td>NEAR BAY</td>\n",
              "    </tr>\n",
              "    <tr>\n",
              "      <th>7</th>\n",
              "      <td>-122.25</td>\n",
              "      <td>37.84</td>\n",
              "      <td>52.0</td>\n",
              "      <td>3104.0</td>\n",
              "      <td>687.0</td>\n",
              "      <td>1157.0</td>\n",
              "      <td>647.0</td>\n",
              "      <td>3.1200</td>\n",
              "      <td>241400.0</td>\n",
              "      <td>NEAR BAY</td>\n",
              "    </tr>\n",
              "    <tr>\n",
              "      <th>8</th>\n",
              "      <td>-122.26</td>\n",
              "      <td>37.84</td>\n",
              "      <td>42.0</td>\n",
              "      <td>2555.0</td>\n",
              "      <td>665.0</td>\n",
              "      <td>1206.0</td>\n",
              "      <td>595.0</td>\n",
              "      <td>2.0804</td>\n",
              "      <td>226700.0</td>\n",
              "      <td>NEAR BAY</td>\n",
              "    </tr>\n",
              "    <tr>\n",
              "      <th>9</th>\n",
              "      <td>-122.25</td>\n",
              "      <td>37.84</td>\n",
              "      <td>52.0</td>\n",
              "      <td>3549.0</td>\n",
              "      <td>707.0</td>\n",
              "      <td>1551.0</td>\n",
              "      <td>714.0</td>\n",
              "      <td>3.6912</td>\n",
              "      <td>261100.0</td>\n",
              "      <td>NEAR BAY</td>\n",
              "    </tr>\n",
              "  </tbody>\n",
              "</table>\n",
              "</div>"
            ],
            "text/plain": [
              "   longitude  latitude  ...  median_house_value  ocean_proximity\n",
              "0    -122.23     37.88  ...            452600.0         NEAR BAY\n",
              "1    -122.22     37.86  ...            358500.0         NEAR BAY\n",
              "2    -122.24     37.85  ...            352100.0         NEAR BAY\n",
              "3    -122.25     37.85  ...            341300.0         NEAR BAY\n",
              "4    -122.25     37.85  ...            342200.0         NEAR BAY\n",
              "5    -122.25     37.85  ...            269700.0         NEAR BAY\n",
              "6    -122.25     37.84  ...            299200.0         NEAR BAY\n",
              "7    -122.25     37.84  ...            241400.0         NEAR BAY\n",
              "8    -122.26     37.84  ...            226700.0         NEAR BAY\n",
              "9    -122.25     37.84  ...            261100.0         NEAR BAY\n",
              "\n",
              "[10 rows x 10 columns]"
            ]
          },
          "metadata": {
            "tags": []
          },
          "execution_count": 33
        }
      ]
    },
    {
      "cell_type": "code",
      "metadata": {
        "id": "K7X7v3yqSHyX",
        "colab_type": "code",
        "colab": {}
      },
      "source": [
        "housing.to_csv('/AlohaMyDrive/My Drive/Colab Notebooks/housing.csv')"
      ],
      "execution_count": 0,
      "outputs": []
    },
    {
      "cell_type": "code",
      "metadata": {
        "id": "NINyBucWSnHo",
        "colab_type": "code",
        "outputId": "42e683c8-c51b-4180-dd51-95778a39e29f",
        "colab": {
          "base_uri": "https://localhost:8080/",
          "height": 277
        }
      },
      "source": [
        "housing.info()"
      ],
      "execution_count": 0,
      "outputs": [
        {
          "output_type": "stream",
          "text": [
            "<class 'pandas.core.frame.DataFrame'>\n",
            "RangeIndex: 20640 entries, 0 to 20639\n",
            "Data columns (total 10 columns):\n",
            "longitude             20640 non-null float64\n",
            "latitude              20640 non-null float64\n",
            "housing_median_age    20640 non-null float64\n",
            "total_rooms           20640 non-null float64\n",
            "total_bedrooms        20433 non-null float64\n",
            "population            20640 non-null float64\n",
            "households            20640 non-null float64\n",
            "median_income         20640 non-null float64\n",
            "median_house_value    20640 non-null float64\n",
            "ocean_proximity       20640 non-null object\n",
            "dtypes: float64(9), object(1)\n",
            "memory usage: 1.6+ MB\n"
          ],
          "name": "stdout"
        }
      ]
    },
    {
      "cell_type": "code",
      "metadata": {
        "id": "f-erC2_BTbTB",
        "colab_type": "code",
        "outputId": "ba72d591-84be-4d21-e9a4-7a4380427ee3",
        "colab": {
          "base_uri": "https://localhost:8080/",
          "height": 121
        }
      },
      "source": [
        "housing['ocean_proximity'].value_counts()"
      ],
      "execution_count": 0,
      "outputs": [
        {
          "output_type": "execute_result",
          "data": {
            "text/plain": [
              "<1H OCEAN     9136\n",
              "INLAND        6551\n",
              "NEAR OCEAN    2658\n",
              "NEAR BAY      2290\n",
              "ISLAND           5\n",
              "Name: ocean_proximity, dtype: int64"
            ]
          },
          "metadata": {
            "tags": []
          },
          "execution_count": 35
        }
      ]
    },
    {
      "cell_type": "code",
      "metadata": {
        "id": "eJwvy6VUUnrR",
        "colab_type": "code",
        "outputId": "0a80d126-69fb-475a-949c-1cc45d325d80",
        "colab": {
          "base_uri": "https://localhost:8080/",
          "height": 314
        }
      },
      "source": [
        "housing.describe()"
      ],
      "execution_count": 0,
      "outputs": [
        {
          "output_type": "execute_result",
          "data": {
            "text/html": [
              "<div>\n",
              "<style scoped>\n",
              "    .dataframe tbody tr th:only-of-type {\n",
              "        vertical-align: middle;\n",
              "    }\n",
              "\n",
              "    .dataframe tbody tr th {\n",
              "        vertical-align: top;\n",
              "    }\n",
              "\n",
              "    .dataframe thead th {\n",
              "        text-align: right;\n",
              "    }\n",
              "</style>\n",
              "<table border=\"1\" class=\"dataframe\">\n",
              "  <thead>\n",
              "    <tr style=\"text-align: right;\">\n",
              "      <th></th>\n",
              "      <th>longitude</th>\n",
              "      <th>latitude</th>\n",
              "      <th>housing_median_age</th>\n",
              "      <th>total_rooms</th>\n",
              "      <th>total_bedrooms</th>\n",
              "      <th>population</th>\n",
              "      <th>households</th>\n",
              "      <th>median_income</th>\n",
              "      <th>median_house_value</th>\n",
              "    </tr>\n",
              "  </thead>\n",
              "  <tbody>\n",
              "    <tr>\n",
              "      <th>count</th>\n",
              "      <td>20640.000000</td>\n",
              "      <td>20640.000000</td>\n",
              "      <td>20640.000000</td>\n",
              "      <td>20640.000000</td>\n",
              "      <td>20433.000000</td>\n",
              "      <td>20640.000000</td>\n",
              "      <td>20640.000000</td>\n",
              "      <td>20640.000000</td>\n",
              "      <td>20640.000000</td>\n",
              "    </tr>\n",
              "    <tr>\n",
              "      <th>mean</th>\n",
              "      <td>-119.569704</td>\n",
              "      <td>35.631861</td>\n",
              "      <td>28.639486</td>\n",
              "      <td>2635.763081</td>\n",
              "      <td>537.870553</td>\n",
              "      <td>1425.476744</td>\n",
              "      <td>499.539680</td>\n",
              "      <td>3.870671</td>\n",
              "      <td>206855.816909</td>\n",
              "    </tr>\n",
              "    <tr>\n",
              "      <th>std</th>\n",
              "      <td>2.003532</td>\n",
              "      <td>2.135952</td>\n",
              "      <td>12.585558</td>\n",
              "      <td>2181.615252</td>\n",
              "      <td>421.385070</td>\n",
              "      <td>1132.462122</td>\n",
              "      <td>382.329753</td>\n",
              "      <td>1.899822</td>\n",
              "      <td>115395.615874</td>\n",
              "    </tr>\n",
              "    <tr>\n",
              "      <th>min</th>\n",
              "      <td>-124.350000</td>\n",
              "      <td>32.540000</td>\n",
              "      <td>1.000000</td>\n",
              "      <td>2.000000</td>\n",
              "      <td>1.000000</td>\n",
              "      <td>3.000000</td>\n",
              "      <td>1.000000</td>\n",
              "      <td>0.499900</td>\n",
              "      <td>14999.000000</td>\n",
              "    </tr>\n",
              "    <tr>\n",
              "      <th>25%</th>\n",
              "      <td>-121.800000</td>\n",
              "      <td>33.930000</td>\n",
              "      <td>18.000000</td>\n",
              "      <td>1447.750000</td>\n",
              "      <td>296.000000</td>\n",
              "      <td>787.000000</td>\n",
              "      <td>280.000000</td>\n",
              "      <td>2.563400</td>\n",
              "      <td>119600.000000</td>\n",
              "    </tr>\n",
              "    <tr>\n",
              "      <th>50%</th>\n",
              "      <td>-118.490000</td>\n",
              "      <td>34.260000</td>\n",
              "      <td>29.000000</td>\n",
              "      <td>2127.000000</td>\n",
              "      <td>435.000000</td>\n",
              "      <td>1166.000000</td>\n",
              "      <td>409.000000</td>\n",
              "      <td>3.534800</td>\n",
              "      <td>179700.000000</td>\n",
              "    </tr>\n",
              "    <tr>\n",
              "      <th>75%</th>\n",
              "      <td>-118.010000</td>\n",
              "      <td>37.710000</td>\n",
              "      <td>37.000000</td>\n",
              "      <td>3148.000000</td>\n",
              "      <td>647.000000</td>\n",
              "      <td>1725.000000</td>\n",
              "      <td>605.000000</td>\n",
              "      <td>4.743250</td>\n",
              "      <td>264725.000000</td>\n",
              "    </tr>\n",
              "    <tr>\n",
              "      <th>max</th>\n",
              "      <td>-114.310000</td>\n",
              "      <td>41.950000</td>\n",
              "      <td>52.000000</td>\n",
              "      <td>39320.000000</td>\n",
              "      <td>6445.000000</td>\n",
              "      <td>35682.000000</td>\n",
              "      <td>6082.000000</td>\n",
              "      <td>15.000100</td>\n",
              "      <td>500001.000000</td>\n",
              "    </tr>\n",
              "  </tbody>\n",
              "</table>\n",
              "</div>"
            ],
            "text/plain": [
              "          longitude      latitude  ...  median_income  median_house_value\n",
              "count  20640.000000  20640.000000  ...   20640.000000        20640.000000\n",
              "mean    -119.569704     35.631861  ...       3.870671       206855.816909\n",
              "std        2.003532      2.135952  ...       1.899822       115395.615874\n",
              "min     -124.350000     32.540000  ...       0.499900        14999.000000\n",
              "25%     -121.800000     33.930000  ...       2.563400       119600.000000\n",
              "50%     -118.490000     34.260000  ...       3.534800       179700.000000\n",
              "75%     -118.010000     37.710000  ...       4.743250       264725.000000\n",
              "max     -114.310000     41.950000  ...      15.000100       500001.000000\n",
              "\n",
              "[8 rows x 9 columns]"
            ]
          },
          "metadata": {
            "tags": []
          },
          "execution_count": 37
        }
      ]
    },
    {
      "cell_type": "code",
      "metadata": {
        "id": "B8YExB8ePvip",
        "colab_type": "code",
        "outputId": "9f825582-09f4-441d-a58e-7bd1b7783237",
        "colab": {
          "base_uri": "https://localhost:8080/",
          "height": 52
        }
      },
      "source": [
        "%cd /AlohaMyDrive\n",
        "!mkdir My"
      ],
      "execution_count": 0,
      "outputs": [
        {
          "output_type": "stream",
          "text": [
            "/AlohaMyDrive\n",
            "mkdir: cannot create directory ‘My’: Operation not supported\n"
          ],
          "name": "stdout"
        }
      ]
    },
    {
      "cell_type": "code",
      "metadata": {
        "id": "qeLoP6pVjnPV",
        "colab_type": "code",
        "outputId": "0bdefa64-352c-4744-89be-8302ff9a8d58",
        "colab": {
          "base_uri": "https://localhost:8080/",
          "height": 121
        }
      },
      "source": [
        "Data = {'Product': ['AAA','BBB'],\n",
        "          'Price': ['210','250']}\n",
        "\n",
        "df = pd.DataFrame(Data)\n",
        "df['Price'] = df['Price'].astype(int)\n",
        "\n",
        "print (df)\n",
        "print (df.dtypes)"
      ],
      "execution_count": 0,
      "outputs": [
        {
          "output_type": "stream",
          "text": [
            "  Product  Price\n",
            "0     AAA    210\n",
            "1     BBB    250\n",
            "Product    object\n",
            "Price       int64\n",
            "dtype: object\n"
          ],
          "name": "stdout"
        }
      ]
    },
    {
      "cell_type": "code",
      "metadata": {
        "id": "vndgrvdGJnWL",
        "colab_type": "code",
        "outputId": "bc562352-fc59-4a79-d258-fdf9ac9d348a",
        "colab": {
          "base_uri": "https://localhost:8080/",
          "height": 52
        }
      },
      "source": [
        "!dir\n"
      ],
      "execution_count": 0,
      "outputs": [
        {
          "output_type": "stream",
          "text": [
            "Colab\\ Notebooks      Jax.gsheet\n",
            "Getting\\ started.pdf  Untitled\\ spreadsheet.gsheet\n"
          ],
          "name": "stdout"
        }
      ]
    },
    {
      "cell_type": "code",
      "metadata": {
        "id": "vJTagNQ0L4ec",
        "colab_type": "code",
        "outputId": "33e83f56-c17d-4ffe-8006-6e6e0a57bac4",
        "colab": {
          "base_uri": "https://localhost:8080/",
          "height": 157
        }
      },
      "source": [
        "import numpy as np\n",
        "import matplotlib.pyplot as plt\n",
        "from matplotlib.ticker import AutoMinorLocator, FuncFormatter\n",
        "\n",
        "fig = plt.figure(figsize=(3,3))\n",
        "\n",
        "ax=fig.add_subplot(3,3,1,aspect=1)\n",
        "ax=fig.add_subplot(3,3,2,aspect=1)\n",
        "ax=fig.add_subplot(3,3,3,aspect=0.5)\n",
        "ax=fig.add_subplot(3,3,4,aspect=0.5)\n",
        "ax=fig.add_subplot(3,3,5,aspect=2"
      ],
      "execution_count": 0,
      "outputs": [
        {
          "output_type": "display_data",
          "data": {
            "image/png": "[encoded data removed]",
            "text/plain": [
              "<Figure size 216x216 with 5 Axes>"
            ]
          },
          "metadata": {
            "tags": []
          }
        }
      ]
    },
    {
      "cell_type": "code",
      "metadata": {
        "id": "q_w2-kLQ019J",
        "colab_type": "code",
        "outputId": "09ca04e0-25d7-409a-bbea-7276139fd7d6",
        "colab": {
          "base_uri": "https://localhost:8080/",
          "height": 131
        }
      },
      "source": [
        "\"\"\"\"\"\"1,2,3\"\"\"\"\"\""
      ],
      "execution_count": 0,
      "outputs": [
        {
          "output_type": "error",
          "ename": "SyntaxError",
          "evalue": "ignored",
          "traceback": [
            "\u001b[0;36m  File \u001b[0;32m\"<ipython-input-7-31fc3da1cfa0>\"\u001b[0;36m, line \u001b[0;32m1\u001b[0m\n\u001b[0;31m    \"\"\"\"\"\"1,2,3\"\"\"\"\"\"\u001b[0m\n\u001b[0m          ^\u001b[0m\n\u001b[0;31mSyntaxError\u001b[0m\u001b[0;31m:\u001b[0m invalid syntax\n"
          ]
        }
      ]
    },
    {
      "cell_type": "code",
      "metadata": {
        "id": "Ic5UqIQS1EiB",
        "colab_type": "code",
        "outputId": "01503687-9ed0-4856-e3da-ffcdbeefb567",
        "colab": {
          "base_uri": "https://localhost:8080/",
          "height": 35
        }
      },
      "source": [
        "array=[-5,6,1,2,3,4];greater=[];less=[];pivot=3\n",
        "for x in array:\n",
        "    if x < pivot:\n",
        "        less.append(x)\n",
        "    else:\n",
        "        greater.append(x)\n",
        "print(greater,less)"
      ],
      "execution_count": 0,
      "outputs": [
        {
          "output_type": "stream",
          "text": [
            "[6, 3, 4] [-5, 1, 2]\n"
          ],
          "name": "stdout"
        }
      ]
    },
    {
      "cell_type": "code",
      "metadata": {
        "id": "7faOM5lP4qQW",
        "colab_type": "code",
        "outputId": "2a3274d7-6568-4483-b4fd-20e5b6272275",
        "colab": {
          "base_uri": "https://localhost:8080/",
          "height": 35
        }
      },
      "source": [
        "a=['a','b','e']\n",
        "b=a\n",
        "a[2]='f'\n",
        "print(b)"
      ],
      "execution_count": 0,
      "outputs": [
        {
          "output_type": "stream",
          "text": [
            "['a', 'b', 'f']\n"
          ],
          "name": "stdout"
        }
      ]
    },
    {
      "cell_type": "code",
      "metadata": {
        "id": "IgHhV-q7-XN0",
        "colab_type": "code",
        "outputId": "86b2f3e1-b510-4c76-ce17-8e7a73c7d531",
        "colab": {
          "base_uri": "https://localhost:8080/",
          "height": 131
        }
      },
      "source": [
        "a=[1,2,3,4],b='abc'\n",
        "print('a is {0}'.format(type(a)),'sef')"
      ],
      "execution_count": 0,
      "outputs": [
        {
          "output_type": "error",
          "ename": "SyntaxError",
          "evalue": "ignored",
          "traceback": [
            "\u001b[0;36m  File \u001b[0;32m\"<ipython-input-21-9cf6a98ec539>\"\u001b[0;36m, line \u001b[0;32m1\u001b[0m\n\u001b[0;31m    a=[1,2,3,4],b='abc'\u001b[0m\n\u001b[0m     ^\u001b[0m\n\u001b[0;31mSyntaxError\u001b[0m\u001b[0;31m:\u001b[0m can't assign to literal\n"
          ]
        }
      ]
    },
    {
      "cell_type": "code",
      "metadata": {
        "id": "Z9R2pvlvAbLw",
        "colab_type": "code",
        "outputId": "2e1e2d20-729f-478f-8398-025d32c9ee7f",
        "colab": {
          "base_uri": "https://localhost:8080/",
          "height": 35
        }
      },
      "source": [
        "a=5;b='foo'\n",
        "print(isinstance(a,(str,int)))"
      ],
      "execution_count": 0,
      "outputs": [
        {
          "output_type": "stream",
          "text": [
            "True\n"
          ],
          "name": "stdout"
        }
      ]
    },
    {
      "cell_type": "code",
      "metadata": {
        "id": "sZqE9CBnD4cE",
        "colab_type": "code",
        "outputId": "50989708-e2ee-4f94-831c-8ef7e4d1a816",
        "colab": {
          "base_uri": "https://localhost:8080/",
          "height": 131
        }
      },
      "source": [
        "a=5,b=5\n",
        "a==b"
      ],
      "execution_count": 0,
      "outputs": [
        {
          "output_type": "error",
          "ename": "SyntaxError",
          "evalue": "ignored",
          "traceback": [
            "\u001b[0;36m  File \u001b[0;32m\"<ipython-input-41-2d8b8f72caad>\"\u001b[0;36m, line \u001b[0;32m1\u001b[0m\n\u001b[0;31m    a=5,b=5\u001b[0m\n\u001b[0m     ^\u001b[0m\n\u001b[0;31mSyntaxError\u001b[0m\u001b[0;31m:\u001b[0m can't assign to literal\n"
          ]
        }
      ]
    },
    {
      "cell_type": "code",
      "metadata": {
        "id": "dapVvGQvN-55",
        "colab_type": "code",
        "outputId": "2db2e1eb-99ee-4814-968b-1009e6f991f9",
        "colab": {
          "base_uri": "https://localhost:8080/",
          "height": 35
        }
      },
      "source": [
        "a='hello'\n",
        "a='jik'\n",
        "a.replace('ji','oa')\n",
        "\n"
      ],
      "execution_count": 0,
      "outputs": [
        {
          "output_type": "execute_result",
          "data": {
            "text/plain": [
              "'oak'"
            ]
          },
          "metadata": {
            "tags": []
          },
          "execution_count": 53
        }
      ]
    },
    {
      "cell_type": "code",
      "metadata": {
        "id": "WOYhAsbmRMLr",
        "colab_type": "code",
        "outputId": "dec1f57a-20c1-4546-d4e5-5ebded176cf2",
        "colab": {
          "base_uri": "https://localhost:8080/",
          "height": 35
        }
      },
      "source": [
        "a=()\n",
        "print(isinstance(a,(str)))"
      ],
      "execution_count": 0,
      "outputs": [
        {
          "output_type": "stream",
          "text": [
            "False\n"
          ],
          "name": "stdout"
        }
      ]
    },
    {
      "cell_type": "code",
      "metadata": {
        "id": "3yc4_E5hVQmC",
        "colab_type": "code",
        "outputId": "72825690-e8a4-4312-a4a5-7f95a34d59dc",
        "colab": {
          "base_uri": "https://localhost:8080/",
          "height": 121
        }
      },
      "source": [
        "from datetime import datetime,date,time\n",
        "dt=datetime(2019,6,2,15,25,30)\n",
        "\n",
        "print(dt.day)\n",
        "print(dt.minute)\n",
        "print(dt.date())\n",
        "print(dt.time())\n",
        "print(dt.ctime())\n",
        "print(dt.strftime('%Z'))"
      ],
      "execution_count": 0,
      "outputs": [
        {
          "output_type": "stream",
          "text": [
            "2\n",
            "25\n",
            "2019-06-02\n",
            "15:25:30\n",
            "Sun Jun  2 15:25:30 2019\n",
            "\n"
          ],
          "name": "stdout"
        }
      ]
    },
    {
      "cell_type": "code",
      "metadata": {
        "id": "p3ZNKtqW11F-",
        "colab_type": "code",
        "outputId": "aa519a33-fb9c-4aef-a3c7-9fabe557e5b0",
        "colab": {
          "base_uri": "https://localhost:8080/",
          "height": 52
        }
      },
      "source": [
        "words=['apple','bat','bar','atom','book']\n",
        "d1={}\n",
        "for x in words:\n",
        "    if x[0] in d1:\n",
        "        d1[x[0]].append(x)\n",
        "    else:\n",
        "        d1[x[0]] = [x] \n",
        "print(d1)\n",
        "list(set(x[0] for x in words))"
      ],
      "execution_count": 0,
      "outputs": [
        {
          "output_type": "stream",
          "text": [
            "{'a': ['apple', 'atom'], 'b': ['bat', 'bar', 'book']}\n"
          ],
          "name": "stdout"
        },
        {
          "output_type": "execute_result",
          "data": {
            "text/plain": [
              "['a', 'b']"
            ]
          },
          "metadata": {
            "tags": []
          },
          "execution_count": 162
        }
      ]
    },
    {
      "cell_type": "code",
      "metadata": {
        "id": "p6_y0uUS9csR",
        "colab_type": "code",
        "outputId": "4d75eb63-8f09-410d-8dd6-4b6a20a65e21",
        "colab": {
          "base_uri": "https://localhost:8080/",
          "height": 35
        }
      },
      "source": [
        "a={1,2,3,4,5}\n",
        "b={4,5,6,8,9}\n",
        "b.difference(a)"
      ],
      "execution_count": 0,
      "outputs": [
        {
          "output_type": "execute_result",
          "data": {
            "text/plain": [
              "{6, 8, 9}"
            ]
          },
          "metadata": {
            "tags": []
          },
          "execution_count": 137
        }
      ]
    },
    {
      "cell_type": "code",
      "metadata": {
        "id": "Q9yUGUCAH2Bh",
        "colab_type": "code",
        "outputId": "d1b77eb7-230e-4693-91bb-c8b2a84112f1",
        "colab": {
          "base_uri": "https://localhost:8080/",
          "height": 35
        }
      },
      "source": [
        "def my_function(x,y,z=1.5):\n",
        "    if z>1:\n",
        "        return z * (x+y)\n",
        "    else:\n",
        "        return z / (x+y)\n",
        "x = 19\n",
        "y = 22\n",
        "my_function(x,y)\n"
      ],
      "execution_count": 0,
      "outputs": [
        {
          "output_type": "execute_result",
          "data": {
            "text/plain": [
              "61.5"
            ]
          },
          "metadata": {
            "tags": []
          },
          "execution_count": 166
        }
      ]
    },
    {
      "cell_type": "code",
      "metadata": {
        "id": "S66xbhx4LrWB",
        "colab_type": "code",
        "colab": {}
      },
      "source": [
        "ops=[list(set)]"
      ],
      "execution_count": 0,
      "outputs": []
    },
    {
      "cell_type": "code",
      "metadata": {
        "id": "SHF6PXEJCoSH",
        "colab_type": "code",
        "outputId": "f964a3f6-48ed-4550-b95f-4299c11bcd08",
        "colab": {
          "base_uri": "https://localhost:8080/",
          "height": 35
        }
      },
      "source": [
        "equiv_amon = lambda x:x**2\n",
        "\n",
        "def apply_to_list(some_list,f):\n",
        "    return [f(x) for x in some_list]\n",
        "\n",
        "ints = [4,0,1,5,6]\n",
        "apply_to_list(ints,equiv_amon)"
      ],
      "execution_count": 0,
      "outputs": [
        {
          "output_type": "execute_result",
          "data": {
            "text/plain": [
              "[16, 0, 1, 25, 36]"
            ]
          },
          "metadata": {
            "tags": []
          },
          "execution_count": 7
        }
      ]
    },
    {
      "cell_type": "code",
      "metadata": {
        "id": "3ErwXK7JelQh",
        "colab_type": "code",
        "outputId": "1aa489c9-95da-431d-8325-f02911d1185c",
        "colab": {
          "base_uri": "https://localhost:8080/",
          "height": 139
        }
      },
      "source": [
        "import numpy as np\n",
        "arr=np.array([[1.,2.,3.],[4.,5.,6.]])\n",
        "arr1=np.array([[[1,2,3,4],[1,2,3,6],[1,4,5,7]],[[1,1,2,4],[1,5,6,7],[7,3,4,5]]])\n",
        "print(arr1)"
      ],
      "execution_count": 0,
      "outputs": [
        {
          "output_type": "stream",
          "text": [
            "[[[1 2 3 4]\n",
            "  [1 2 3 6]\n",
            "  [1 4 5 7]]\n",
            "\n",
            " [[1 1 2 4]\n",
            "  [1 5 6 7]\n",
            "  [7 3 4 5]]]\n"
          ],
          "name": "stdout"
        }
      ]
    },
    {
      "cell_type": "code",
      "metadata": {
        "id": "Ed-yoRpTApH-",
        "colab_type": "code",
        "outputId": "2b9f4531-c618-4756-dbde-d22fe45134c2",
        "colab": {
          "base_uri": "https://localhost:8080/",
          "height": 87
        }
      },
      "source": [
        "import numpy as np\n",
        "samples = np.random.normal(size=(4,4))\n",
        "\n",
        "print(samples)\n",
        "\n"
      ],
      "execution_count": 0,
      "outputs": [
        {
          "output_type": "stream",
          "text": [
            "[[-0.55112378  1.97002552  0.19609963  0.30217362]\n",
            " [ 1.06964927 -1.95875358  1.01479804 -0.63769091]\n",
            " [ 0.77260765 -1.47400726  0.15940979 -0.73049418]\n",
            " [-1.59461214  0.90967766  0.39731158 -1.30845232]]\n"
          ],
          "name": "stdout"
        }
      ]
    },
    {
      "cell_type": "code",
      "metadata": {
        "id": "Y0srJ8unICFa",
        "colab_type": "code",
        "outputId": "05f1a49b-5bcf-4aa4-daba-ce02d5f72306",
        "colab": {
          "base_uri": "https://localhost:8080/",
          "height": 283
        }
      },
      "source": [
        "import random\n",
        "import numpy\n",
        "import matplotlib \n",
        "import matplotlib.pyplot as plt\n",
        "\n",
        "position = 0\n",
        "walk = [position]\n",
        "steps = 1000\n",
        "\n",
        "for i in range(steps):\n",
        "    step =1 if numpy.random.randn()>0 else -1\n",
        "    position += step\n",
        "    walk.append(position)\n",
        "\n",
        "plt.plot(walk[:100])"
      ],
      "execution_count": 0,
      "outputs": [
        {
          "output_type": "execute_result",
          "data": {
            "text/plain": [
              "[<matplotlib.lines.Line2D at 0x7fbf5468dac8>]"
            ]
          },
          "metadata": {
            "tags": []
          },
          "execution_count": 4
        },
        {
          "output_type": "display_data",
          "data": {
            "image/png": "[encoded data removed]",
            "text/plain": [
              "<Figure size 432x288 with 1 Axes>"
            ]
          },
          "metadata": {
            "tags": []
          }
        }
      ]
    },
    {
      "cell_type": "code",
      "metadata": {
        "id": "LrbqK9gXovov",
        "colab_type": "code",
        "outputId": "ef3397e8-c088-4d94-96f3-ba646a04d11d",
        "colab": {
          "base_uri": "https://localhost:8080/",
          "height": 283
        }
      },
      "source": [
        "import random\n",
        "import numpy\n",
        "import matplotlib \n",
        "import matplotlib.pyplot as plt\n",
        "\n",
        "position = 0\n",
        "walk = [position]\n",
        "steps = 1000\n",
        "sigma = 1\n",
        "mu = 0\n",
        "\n",
        "\n",
        "for i in range(steps):\n",
        "    if  -2< position < 0:\n",
        "        mu = 5\n",
        "    elif position < -2:\n",
        "        mu = 10\n",
        "    elif position == 0:\n",
        "        mu = 0\n",
        "    elif position > 2:\n",
        "        mu = -10\n",
        "    else:\n",
        "        mu = -5\n",
        "    step =1 if sigma*numpy.random.randn()+mu>0 else -1\n",
        "    position += step\n",
        "    walk.append(position)\n",
        "\n",
        "plt.plot(walk[:100])"
      ],
      "execution_count": 0,
      "outputs": [
        {
          "output_type": "execute_result",
          "data": {
            "text/plain": [
              "[<matplotlib.lines.Line2D at 0x7fcdbb817c50>]"
            ]
          },
          "metadata": {
            "tags": []
          },
          "execution_count": 2
        },
        {
          "output_type": "display_data",
          "data": {
            "image/png": "[encoded data removed]",
            "text/plain": [
              "<Figure size 432x288 with 1 Axes>"
            ]
          },
          "metadata": {
            "tags": []
          }
        }
      ]
    },
    {
      "cell_type": "code",
      "metadata": {
        "id": "fzfCaGUjPynf",
        "colab_type": "code",
        "colab": {}
      },
      "source": [
        "import pandas as pd\n",
        "import numpy as np\n",
        "import random\n",
        "from pandas import Series, DataFrame\n"
      ],
      "execution_count": 0,
      "outputs": []
    },
    {
      "cell_type": "markdown",
      "metadata": {
        "id": "EZME5ODiZXiC",
        "colab_type": "text"
      },
      "source": [
        "mylist 和index可以自由match"
      ]
    },
    {
      "cell_type": "code",
      "metadata": {
        "id": "LSq0EMqRRg08",
        "colab_type": "code",
        "outputId": "3f91e8ee-916f-4932-e229-e18865c93632",
        "colab": {
          "base_uri": "https://localhost:8080/",
          "height": 641
        }
      },
      "source": [
        "obj = pd.Series([4,7,-5,3])\n",
        "mylist = numpy.random.normal(0,1,10000)\n",
        "mylist.shape\n",
        "mylist[mylist>0]\n",
        "obj = pd.Series(mylist[mylist>0],index = (mylist[mylist>0]>0)/1)\n",
        "obj2 = pd.Series(mylist[mylist<0],index = (mylist[mylist<0]>0)/1)\n",
        "obj.index = [(mylist[mylist>0]<0)/1]\n",
        "obj2.index = [(mylist[mylist<0]<0)/1]\n",
        "print(obj)\n",
        "print(obj2)\n",
        "print(obj+obj2)"
      ],
      "execution_count": 0,
      "outputs": [
        {
          "output_type": "stream",
          "text": [
            "0.0    0.695496\n",
            "0.0    0.259114\n",
            "0.0    0.202069\n",
            "0.0    1.138137\n",
            "0.0    1.367798\n",
            "         ...   \n",
            "0.0    1.359426\n",
            "0.0    1.643517\n",
            "0.0    0.863964\n",
            "0.0    1.349786\n",
            "0.0    1.657225\n",
            "Length: 4844, dtype: float64\n",
            "1.0   -1.088842\n",
            "1.0   -0.760834\n",
            "1.0   -1.901430\n",
            "1.0   -0.058533\n",
            "1.0   -1.801882\n",
            "         ...   \n",
            "1.0   -0.112446\n",
            "1.0   -0.372735\n",
            "1.0   -1.431905\n",
            "1.0   -0.071186\n",
            "1.0   -1.829561\n",
            "Length: 5156, dtype: float64\n",
            "0.0   NaN\n",
            "0.0   NaN\n",
            "0.0   NaN\n",
            "0.0   NaN\n",
            "0.0   NaN\n",
            "       ..\n",
            "1.0   NaN\n",
            "1.0   NaN\n",
            "1.0   NaN\n",
            "1.0   NaN\n",
            "1.0   NaN\n",
            "Length: 10000, dtype: float64\n"
          ],
          "name": "stdout"
        }
      ]
    },
    {
      "cell_type": "code",
      "metadata": {
        "id": "kIsnJrgtifRe",
        "colab_type": "code",
        "outputId": "0ee3e2d9-234b-41b9-b83a-d24aa1a0dde4",
        "colab": {
          "base_uri": "https://localhost:8080/",
          "height": 919
        }
      },
      "source": [
        "mylist = numpy.random.normal(0,1,10000)\n",
        "mylist.shape\n",
        "mylist[mylist>0]\n",
        "obj = pd.Series(mylist[mylist>0])\n",
        "obj2 = pd.Series(mylist[mylist<0])\n",
        "frame = pd.DataFrame(obj,columns = ['positive'])\n",
        "frame2 = pd.DataFrame(frame,columns = ['positive','negative'])\n",
        "frame2['negative']=obj2\n",
        "print(frame2.iloc[50:100])\n",
        "print(frame2.iloc[51,0])"
      ],
      "execution_count": 0,
      "outputs": [
        {
          "output_type": "stream",
          "text": [
            "    positive  negative\n",
            "50  1.690168 -1.563928\n",
            "51  1.274919 -0.907082\n",
            "52  0.225213 -1.271679\n",
            "53  0.041931 -0.112687\n",
            "54  0.209605 -0.810818\n",
            "55  1.250102 -0.759228\n",
            "56  0.950508 -0.316778\n",
            "57  0.058096 -1.399194\n",
            "58  1.076731 -0.505008\n",
            "59  1.646518 -0.936325\n",
            "60  0.342355 -0.841839\n",
            "61  0.837876 -0.400264\n",
            "62  0.823338 -0.549115\n",
            "63  0.940194 -0.021763\n",
            "64  0.643697 -0.150333\n",
            "65  0.972385 -0.871861\n",
            "66  0.598800 -0.932654\n",
            "67  0.807323 -0.707310\n",
            "68  0.412594 -0.389710\n",
            "69  0.568802 -0.309255\n",
            "70  0.703362 -0.984291\n",
            "71  0.241703 -0.132915\n",
            "72  0.042528 -0.890610\n",
            "73  0.916763 -0.150650\n",
            "74  0.329283 -1.414883\n",
            "75  0.673397 -0.130438\n",
            "76  0.289735 -0.115969\n",
            "77  0.740519 -0.303729\n",
            "78  1.792730 -1.576726\n",
            "79  0.376793 -0.233616\n",
            "80  0.679073 -0.069562\n",
            "81  0.638254 -0.789820\n",
            "82  1.035133 -0.444846\n",
            "83  1.028574 -0.315640\n",
            "84  0.503535 -0.427031\n",
            "85  0.767331 -0.615207\n",
            "86  0.679147 -0.021010\n",
            "87  1.369997 -0.278194\n",
            "88  1.025857 -0.147889\n",
            "89  1.266579 -0.948662\n",
            "90  0.182664 -0.513627\n",
            "91  0.866698 -0.445498\n",
            "92  2.426475 -0.041311\n",
            "93  1.189774 -1.077244\n",
            "94  0.132667 -0.421552\n",
            "95  0.833052 -1.930076\n",
            "96  0.033470 -0.826592\n",
            "97  0.536410 -1.189670\n",
            "98  0.034171 -1.811065\n",
            "99  1.064426 -0.399726\n",
            "1.2749185664753753\n"
          ],
          "name": "stdout"
        }
      ]
    },
    {
      "cell_type": "code",
      "metadata": {
        "id": "2x3bNmRabbnn",
        "colab_type": "code",
        "outputId": "601c6423-52ed-41cf-9c06-e7478322a841",
        "colab": {
          "base_uri": "https://localhost:8080/",
          "height": 124
        }
      },
      "source": [
        "from google.colab import drive\n",
        "drive.mount('/AlohaMyDrive')"
      ],
      "execution_count": 0,
      "outputs": [
        {
          "output_type": "stream",
          "text": [
            "Go to this URL in a browser: https://accounts.google.com/o/oauth2/auth?client_id=947318989803-6bn6qk8qdgf4n4g3pfee6491hc0brc4i.apps.googleusercontent.com&redirect_uri=urn%3aietf%3awg%3aoauth%3a2.0%3aoob&response_type=code&scope=email%20https%3a%2f%2fwww.googleapis.com%2fauth%2fdocs.test%20https%3a%2f%2fwww.googleapis.com%2fauth%2fdrive%20https%3a%2f%2fwww.googleapis.com%2fauth%2fdrive.photos.readonly%20https%3a%2f%2fwww.googleapis.com%2fauth%2fpeopleapi.readonly\n",
            "\n",
            "Enter your authorization code:\n",
            "··········\n",
            "Mounted at /AlohaMyDrive\n"
          ],
          "name": "stdout"
        }
      ]
    },
    {
      "cell_type": "code",
      "metadata": {
        "id": "CmTpEnUuaKzf",
        "colab_type": "code",
        "colab": {}
      },
      "source": [
        ""
      ],
      "execution_count": 0,
      "outputs": []
    }
  ]
}